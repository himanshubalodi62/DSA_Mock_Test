{
 "cells": [
  {
   "cell_type": "markdown",
   "id": "665520de",
   "metadata": {},
   "source": [
    "#### Question :\n",
    "\n",
    "Given a non-negative integer x, return the square root of x rounded down to the nearest integer. The returned integer should be non-negative as well. You must not use any built-in exponent function or operator.\n",
    "\n",
    "\n",
    "\n",
    "Example 1: Input: x = 4 Output: 2 Explanation: The square root of 4 is 2, so we return 2. Example 2:\n",
    "\n",
    "                \n",
    "Input: x = 8 Output: 2 Explanation: The square root of 8 is 2.82842..., and since we round it down to the nearest integer, 2 is returned. Constraints:\n",
    "\n",
    "                \n",
    "0 <= x <= 2^31 - 1"
   ]
  },
  {
   "cell_type": "code",
   "execution_count": null,
   "id": "c0421b65",
   "metadata": {},
   "outputs": [],
   "source": [
    "class Solution:\n",
    "    def squareRoot(self , n):\n",
    "        start = 1   # considering the 1st element for calculation\n",
    "        end = n/2\n",
    "        while start < end:  # loop will run until condition false\n",
    "            m = (start/end)//2\n",
    "            if m*m>n:\n",
    "                end = m-1\n",
    "            else:\n",
    "                start = m+1\n",
    "        return end\n",
    "s = Solution()\n",
    "s.squareRoot(8)"
   ]
  },
  {
   "cell_type": "markdown",
   "id": "5eb8d885",
   "metadata": {},
   "source": [
    "#### Question 2:\n",
    "\n",
    "\n",
    "You are given two non-empty linked lists representing two non-negative integers. The digits are stored in reverse order, and each of their nodes contains a single digit. Add the two numbers and return the sum as a linked list.\n",
    "\n",
    "You may assume the two numbers do not contain any leading zero, except the number 0 itself.\n",
    "\n",
    "Example 1:\n",
    "\n",
    "Input: l1 = [2,4,3], l2 = [5,6,4] Output: [7,0,8] Explanation: 342 + 465 = 807.\n",
    "\n",
    "Example 2:\n",
    "\n",
    "Input: l1 = [0], l2 = [0] Output: [0]\n",
    "\n",
    "Example 3:\n",
    "\n",
    "Input: l1 = [9,9,9,9,9,9,9], l2 = [9,9,9,9] Output: [8,9,9,9,0,0,0,1]\n",
    "\n",
    "Constraints:\n",
    "\n",
    "The number of nodes in each linked list is in the range [1, 100]. 0 <= Node.val <= 9 It is guaranteed that the list represents a number that does not have leading zeros."
   ]
  },
  {
   "cell_type": "code",
   "execution_count": null,
   "id": "d884ca51",
   "metadata": {},
   "outputs": [],
   "source": [
    "class Solution:\n",
    "    def reverse(self, head):\n",
    "        if head is None:    # handling the corner case\n",
    "            return head\n",
    "        curr = head    # it's not a good idea to move head again and again\n",
    "        prev = None    # declaring the previous element\n",
    "        while curr:    # trversing over LL\n",
    "            temp = curr.next    # storing to a temporary variable\n",
    "            curr.next = prev    # reversing the LL\n",
    "            prev = curr    # Moving ahead\n",
    "            head = temp    # Moving ahead\n",
    "        return prev    # returning reversed LL\n",
    "    def addTwoNumbers(self, l1, l2):\n",
    "        l1 = int(''.join(self.reverse(l1)))\n",
    "        l2 = int(''.join(self.reverse(l2)))\n",
    "        res = l1+l2\n",
    "        return str(res).split()"
   ]
  },
  {
   "cell_type": "code",
   "execution_count": null,
   "id": "4ef9ff46",
   "metadata": {},
   "outputs": [],
   "source": []
  }
 ],
 "metadata": {
  "kernelspec": {
   "display_name": "Python 3 (ipykernel)",
   "language": "python",
   "name": "python3"
  },
  "language_info": {
   "codemirror_mode": {
    "name": "ipython",
    "version": 3
   },
   "file_extension": ".py",
   "mimetype": "text/x-python",
   "name": "python",
   "nbconvert_exporter": "python",
   "pygments_lexer": "ipython3",
   "version": "3.10.9"
  }
 },
 "nbformat": 4,
 "nbformat_minor": 5
}
