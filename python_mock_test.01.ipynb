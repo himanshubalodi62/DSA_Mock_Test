{
 "cells": [
  {
   "cell_type": "markdown",
   "id": "d556ef09",
   "metadata": {},
   "source": [
    "## mock test solution..."
   ]
  },
  {
   "cell_type": "markdown",
   "id": "5d7f04e0",
   "metadata": {},
   "source": [
    "#### Q.1 -> Move Zeroes\n",
    "\n",
    "#### Given an integer array nums, move all 0's to the end of it while maintaining the relative order of the non-zero elements.\n",
    "\n",
    "Note that you must do this in-place without making a copy of the array."
   ]
  },
  {
   "cell_type": "code",
   "execution_count": 5,
   "id": "70bf66b6",
   "metadata": {},
   "outputs": [
    {
     "name": "stdout",
     "output_type": "stream",
     "text": [
      "Enter the elements of the array (space-separated): 01012321\n",
      "Modified array: [1012321]\n"
     ]
    }
   ],
   "source": [
    "def moveZeroes(nums):\n",
    "    \"\"\"\n",
    "    Move all 0's to the end of the given integer array nums while maintaining the relative order of the non-zero elements.\n",
    "    \"\"\"\n",
    "    n = len(nums)\n",
    "    zero_count = 0 \n",
    "    \n",
    "    for i in range(n):\n",
    "        if nums[i] != 0:\n",
    "            nums[i - zero_count] = nums[i]\n",
    "        else:\n",
    "            zero_count += 1\n",
    "    \n",
    "    # Fill the remaining elements with zeros\n",
    "    for i in range(n - zero_count, n):\n",
    "        nums[i] = 0\n",
    "    \n",
    "    return nums\n",
    "\n",
    "\n",
    "nums = list(map(int, input(\"Enter the elements of the array (space-separated): \").split()))\n",
    "\n",
    "result = moveZeroes(nums)\n",
    "\n",
    "print(\"Modified array:\", result)"
   ]
  },
  {
   "cell_type": "code",
   "execution_count": null,
   "id": "be6e46b7",
   "metadata": {},
   "outputs": [],
   "source": []
  },
  {
   "cell_type": "markdown",
   "id": "b2d9d902",
   "metadata": {},
   "source": [
    "#### Q.2 ->  First Unique Character in a String   \n",
    "\n",
    "#### Given a string s, find the first non-repeating character in it and return its index. If it does not exist, return -1."
   ]
  },
  {
   "cell_type": "code",
   "execution_count": 3,
   "id": "b54a173d",
   "metadata": {},
   "outputs": [
    {
     "name": "stdout",
     "output_type": "stream",
     "text": [
      "Enter a string: leetcode\n",
      "Index of the first non-repeating character: 0\n"
     ]
    }
   ],
   "source": [
    "def firstUniqChar(s):\n",
    "    \"\"\"\n",
    "    Find the index of the first non-repeating character in the given string s.\n",
    "    If no such character exists, return -1.\n",
    "    \"\"\"\n",
    "    char_count = {}\n",
    "\n",
    "    # Count the occurrences of each character\n",
    "    for char in s:\n",
    "        char_count[char] = char_count.get(char, 0) + 1\n",
    "\n",
    "    # Find the index of the first non-repeating character\n",
    "    for i in range(len(s)):\n",
    "        if char_count[s[i]] == 1:\n",
    "            return i\n",
    "\n",
    "    return -1\n",
    "\n",
    "# Take input from the user\n",
    "s = input(\"Enter a string: \")\n",
    "\n",
    "# Call the function and get the result\n",
    "result = firstUniqChar(s)\n",
    "\n",
    "# Print the result\n",
    "print(\"Index of the first non-repeating character:\", result)"
   ]
  },
  {
   "cell_type": "code",
   "execution_count": null,
   "id": "881a1c6a",
   "metadata": {},
   "outputs": [],
   "source": []
  }
 ],
 "metadata": {
  "kernelspec": {
   "display_name": "Python 3 (ipykernel)",
   "language": "python",
   "name": "python3"
  },
  "language_info": {
   "codemirror_mode": {
    "name": "ipython",
    "version": 3
   },
   "file_extension": ".py",
   "mimetype": "text/x-python",
   "name": "python",
   "nbconvert_exporter": "python",
   "pygments_lexer": "ipython3",
   "version": "3.10.9"
  }
 },
 "nbformat": 4,
 "nbformat_minor": 5
}
